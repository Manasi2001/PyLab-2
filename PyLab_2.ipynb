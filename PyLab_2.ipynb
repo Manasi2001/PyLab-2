{
  "nbformat": 4,
  "nbformat_minor": 0,
  "metadata": {
    "colab": {
      "name": "PyLab-2.ipynb",
      "provenance": [],
      "collapsed_sections": []
    },
    "kernelspec": {
      "name": "python3",
      "display_name": "Python 3"
    }
  },
  "cells": [
    {
      "cell_type": "markdown",
      "metadata": {
        "id": "U2ZXikYA_rub",
        "colab_type": "text"
      },
      "source": [
        "# Cube of a Number (Without Parameters)"
      ]
    },
    {
      "cell_type": "code",
      "metadata": {
        "id": "z12Ba4Rl_2lU",
        "colab_type": "code",
        "colab": {
          "base_uri": "https://localhost:8080/",
          "height": 51
        },
        "outputId": "4870147e-1131-403b-d6bf-834e5e052d0e"
      },
      "source": [
        "def cube():\n",
        "  n=int(input(\"Enter no.: \"))\n",
        "  print(\"Cube is:\",n*n*n)\n",
        "cube()  "
      ],
      "execution_count": 2,
      "outputs": [
        {
          "output_type": "stream",
          "text": [
            "Enter no.: 3\n",
            "Cube is: 27\n"
          ],
          "name": "stdout"
        }
      ]
    },
    {
      "cell_type": "markdown",
      "metadata": {
        "id": "wwLSfP0NBCgP",
        "colab_type": "text"
      },
      "source": [
        "# Cube of a Number (With Parameters)"
      ]
    },
    {
      "cell_type": "code",
      "metadata": {
        "id": "wARj-KtnAtKY",
        "colab_type": "code",
        "colab": {
          "base_uri": "https://localhost:8080/",
          "height": 51
        },
        "outputId": "33eb8f11-0612-4165-fc10-0edad189a8b3"
      },
      "source": [
        "def cube(n):\n",
        "  return(n*n*n)\n",
        "a=int(input(\"Enter no.: \"))\n",
        "cub=cube(a)\n",
        "print(\"Cube is:\",cub)"
      ],
      "execution_count": 6,
      "outputs": [
        {
          "output_type": "stream",
          "text": [
            "Enter no.: 3\n",
            "Cube is: 27\n"
          ],
          "name": "stdout"
        }
      ]
    },
    {
      "cell_type": "markdown",
      "metadata": {
        "id": "IqRESIU9Cb7N",
        "colab_type": "text"
      },
      "source": [
        "# Area of Circle (Without Parameters)"
      ]
    },
    {
      "cell_type": "code",
      "metadata": {
        "id": "dF-fE_hHCkG5",
        "colab_type": "code",
        "colab": {
          "base_uri": "https://localhost:8080/",
          "height": 51
        },
        "outputId": "96885804-babf-4f33-e996-3d720b377456"
      },
      "source": [
        "def ar():\n",
        "  r=float(input(\"Enter radius: \"))\n",
        "  area=3.14*r*r\n",
        "  print(\"Area is:\",area)\n",
        "ar()  "
      ],
      "execution_count": 7,
      "outputs": [
        {
          "output_type": "stream",
          "text": [
            "Enter radius: 2\n",
            "Area is: 12.56\n"
          ],
          "name": "stdout"
        }
      ]
    },
    {
      "cell_type": "markdown",
      "metadata": {
        "id": "_LwIyRU_C-z2",
        "colab_type": "text"
      },
      "source": [
        "# Area of Circle (With Prameters)"
      ]
    },
    {
      "cell_type": "code",
      "metadata": {
        "id": "XvOzS05GC5LE",
        "colab_type": "code",
        "colab": {
          "base_uri": "https://localhost:8080/",
          "height": 51
        },
        "outputId": "6612f149-f315-47c7-f832-182909082d25"
      },
      "source": [
        "def ar(r):\n",
        "  return(3.14*r*r)\n",
        "n=float(input(\"Enter radius: \"))\n",
        "area=ar(n)\n",
        "print(\"Area is:\",area)  "
      ],
      "execution_count": 8,
      "outputs": [
        {
          "output_type": "stream",
          "text": [
            "Enter radius: 2\n",
            "Area is: 12.56\n"
          ],
          "name": "stdout"
        }
      ]
    },
    {
      "cell_type": "markdown",
      "metadata": {
        "id": "Qrfd6m2uDhY9",
        "colab_type": "text"
      },
      "source": [
        "# Sum from n1 to n2 (Without Parameters)"
      ]
    },
    {
      "cell_type": "code",
      "metadata": {
        "id": "QqTGEConDeuB",
        "colab_type": "code",
        "colab": {
          "base_uri": "https://localhost:8080/",
          "height": 68
        },
        "outputId": "e0ba2969-97ca-45e8-a0bb-38583dd6ea6a"
      },
      "source": [
        "def s():\n",
        "  n1=int(input(\"Enter n1: \"))\n",
        "  n2=int(input(\"Enter n2: \"))\n",
        "  c=0\n",
        "  for i in range(n1,n2+1):\n",
        "    c=c+i\n",
        "  print(\"Sum is:\",c)\n",
        "s()"
      ],
      "execution_count": 11,
      "outputs": [
        {
          "output_type": "stream",
          "text": [
            "Enter n1: 2\n",
            "Enter n2: 7\n",
            "Sum is: 27\n"
          ],
          "name": "stdout"
        }
      ]
    },
    {
      "cell_type": "markdown",
      "metadata": {
        "id": "5qJ4gIIdEpqu",
        "colab_type": "text"
      },
      "source": [
        "# Sum from n1 to n2 (With Parameters)"
      ]
    },
    {
      "cell_type": "code",
      "metadata": {
        "id": "yBNYpzJnEZBy",
        "colab_type": "code",
        "colab": {
          "base_uri": "https://localhost:8080/",
          "height": 68
        },
        "outputId": "9e05da92-b8e4-4f2b-b5f1-1b0c5791cd43"
      },
      "source": [
        "def s(n1,n2):\n",
        "  c=0\n",
        "  for i in range(n1,n2+1):\n",
        "    c=c+i\n",
        "  return(c)\n",
        "a=int(input(\"Enter n1: \"))\n",
        "b=int(input(\"Enter n2: \"))\n",
        "sums=s(a,b)\n",
        "print(\"Sum is:\",sums)    "
      ],
      "execution_count": 12,
      "outputs": [
        {
          "output_type": "stream",
          "text": [
            "Enter n1: 2\n",
            "Enter n2: 7\n",
            "Sum is: 27\n"
          ],
          "name": "stdout"
        }
      ]
    },
    {
      "cell_type": "markdown",
      "metadata": {
        "id": "hzn3axEUI-wD",
        "colab_type": "text"
      },
      "source": [
        "# Sum from n1 to n2 (Key Arguments)"
      ]
    },
    {
      "cell_type": "code",
      "metadata": {
        "id": "SCAoi2eTJGof",
        "colab_type": "code",
        "colab": {
          "base_uri": "https://localhost:8080/",
          "height": 34
        },
        "outputId": "022793fa-bb22-4359-f9f2-1686dabf19fa"
      },
      "source": [
        "def s(n1,n2):\n",
        "  c=0\n",
        "  for i in range(n1,n2+1):\n",
        "    c=c+i\n",
        "  return(c) \n",
        "sums=s(n2=7,n1=2)\n",
        "print(\"Sum is:\",sums)  "
      ],
      "execution_count": 16,
      "outputs": [
        {
          "output_type": "stream",
          "text": [
            "Sum is: 27\n"
          ],
          "name": "stdout"
        }
      ]
    },
    {
      "cell_type": "markdown",
      "metadata": {
        "id": "AuvoKypoFNoV",
        "colab_type": "text"
      },
      "source": [
        "# Sum from n1 to n2 (Default Arguments)"
      ]
    },
    {
      "cell_type": "code",
      "metadata": {
        "id": "bbWXo5q4FKyE",
        "colab_type": "code",
        "colab": {
          "base_uri": "https://localhost:8080/",
          "height": 34
        },
        "outputId": "6d8ffa3f-1aad-47ff-ddb6-1e88bcdcf5f1"
      },
      "source": [
        "def s(n1=2,n2=7):\n",
        "  c=0\n",
        "  for i in range(n1,n2+1):\n",
        "    c=c+i\n",
        "  return(c)\n",
        "ans=s(3)\n",
        "print(\"Sum is:\",ans)  "
      ],
      "execution_count": 15,
      "outputs": [
        {
          "output_type": "stream",
          "text": [
            "Sum is: 25\n"
          ],
          "name": "stdout"
        }
      ]
    },
    {
      "cell_type": "markdown",
      "metadata": {
        "id": "HVDVARYZHEVM",
        "colab_type": "text"
      },
      "source": [
        ""
      ]
    }
  ]
}